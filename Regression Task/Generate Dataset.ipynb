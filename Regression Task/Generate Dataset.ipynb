{
 "cells": [
  {
   "cell_type": "code",
   "execution_count": 2,
   "id": "f5ddef48-a00c-47ef-8fac-fd7936ad9717",
   "metadata": {},
   "outputs": [
    {
     "name": "stdout",
     "output_type": "stream",
     "text": [
      "Preview of the Dataset (first 5 samples):\n",
      "    X_Input  Y_Target\n",
      "0  0.436213  0.190282\n",
      "1  1.425251  2.031340\n",
      "2  0.590926  0.349193\n",
      "3 -0.970133  0.941159\n",
      "4 -1.960613  3.844003\n"
     ]
    }
   ],
   "source": [
    "import numpy as np\n",
    "import pandas as pd\n",
    "import os\n",
    "\n",
    "def generate_simple_regression_data(num_samples=5000, min_x=-2.0, max_x=2.0):\n",
    "    \"\"\"\n",
    "    Generates a simple dataset (X, Y) where Y = X^2.\n",
    "\n",
    "    Args:\n",
    "        num_samples (int): Total number of independent (x, x^2) instances.\n",
    "        min_x (float): Minimum value for the input X.\n",
    "        max_x (float): Maximum value for the input X.\n",
    "\n",
    "    Returns:\n",
    "        pd.DataFrame: A DataFrame with two columns: 'X_Input' and 'Y_Target'.\n",
    "    \"\"\"\n",
    "\n",
    "    # 1. Generate 5000 random scalar inputs (X)\n",
    "    # Shape: (5000,)\n",
    "    X_scalars = np.random.uniform(low=min_x, high=max_x, size=num_samples)\n",
    "\n",
    "    # 2. Calculate the scalar targets (Y = X^2)\n",
    "    # Shape: (5000,)\n",
    "    Y_scalars = X_scalars ** 2\n",
    "    \n",
    "    # 3. Combine into a single DataFrame\n",
    "    data = {\n",
    "        'X_Input': X_scalars.astype(np.float32),\n",
    "        'Y_Target': Y_scalars.astype(np.float32)\n",
    "    }\n",
    "    unified_df = pd.DataFrame(data)\n",
    "\n",
    "    return unified_df\n",
    "\n",
    "# --- Configuration ---\n",
    "NUM_SAMPLES = 5000\n",
    "INPUT_RANGE = (-2.0, 2.0)\n",
    "OUTPUT_FILENAME = 'regression_data.csv'\n",
    "\n",
    "# --- 1. Generate the Dataset DataFrame ---\n",
    "unified_df = generate_simple_regression_data(\n",
    "    num_samples=NUM_SAMPLES,\n",
    "    min_x=INPUT_RANGE[0],\n",
    "    max_x=INPUT_RANGE[1]\n",
    ")\n",
    "\n",
    "# --- 2. Save the Unified DataFrame to CSV ---\n",
    "unified_df.to_csv(OUTPUT_FILENAME, index=False)\n",
    "\n",
    "print(\"Preview of the Dataset (first 5 samples):\")\n",
    "print(unified_df.head())"
   ]
  }
 ],
 "metadata": {
  "kernelspec": {
   "display_name": "Python 3 (ipykernel)",
   "language": "python",
   "name": "python3"
  },
  "language_info": {
   "codemirror_mode": {
    "name": "ipython",
    "version": 3
   },
   "file_extension": ".py",
   "mimetype": "text/x-python",
   "name": "python",
   "nbconvert_exporter": "python",
   "pygments_lexer": "ipython3",
   "version": "3.10.12"
  }
 },
 "nbformat": 4,
 "nbformat_minor": 5
}
